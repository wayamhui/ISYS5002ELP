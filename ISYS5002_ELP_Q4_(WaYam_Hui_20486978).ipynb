{
  "nbformat": 4,
  "nbformat_minor": 0,
  "metadata": {
    "colab": {
      "name": "ISYS5002 ELP Q4 (WaYam Hui 20486978).ipynb",
      "provenance": [],
      "authorship_tag": "ABX9TyO335a7jzKx2SCvJlINa2/M",
      "include_colab_link": true
    },
    "kernelspec": {
      "name": "python3",
      "display_name": "Python 3"
    },
    "language_info": {
      "name": "python"
    }
  },
  "cells": [
    {
      "cell_type": "markdown",
      "metadata": {
        "id": "view-in-github",
        "colab_type": "text"
      },
      "source": [
        "<a href=\"https://colab.research.google.com/github/wayamhui/ISYS5002ELP/blob/main/ISYS5002_ELP_Q4_(WaYam_Hui_20486978).ipynb\" target=\"_parent\"><img src=\"https://colab.research.google.com/assets/colab-badge.svg\" alt=\"Open In Colab\"/></a>"
      ]
    },
    {
      "cell_type": "markdown",
      "metadata": {
        "id": "ogP_m2Jdj3G_"
      },
      "source": [
        "#\tState the problem clearly: \n",
        "1. The item to solve is to calucate maximun profits country and minimum profits country as well as average country profits for Australia+Oceania Region based on the sales data provided.\n",
        "2. Plot the Australia+Oceania Region profit by country in a bar chart\n",
        "\n",
        "# Describe the input and output: \n",
        "1. input: the sales cvs file provided\n",
        "2. outout: max, min, average, and a bar chart as stated previously.\n"
      ]
    },
    {
      "cell_type": "markdown",
      "metadata": {
        "id": "Lyf7R0V6j6L_"
      },
      "source": [
        "#Work a simple example by hand\n",
        "\n",
        "This to manually calculate the average profit for \"Australia and Oceania\" manually to check the program later.\n",
        "\n",
        "Australia and Oceania profit records by country:\n",
        "\n",
        "Tuvalu\t:\t 951,411 \t,\n",
        "Solomon Islands\t:\t 285,088 \t,\n",
        "East Timor\t:\t 337,938 \t,\n",
        "New Zealand\t:\t 5,271 \t,\n",
        "Kiribati\t:\t 13,009 \t,\n",
        "Australia\t:\t 369,155 \t,\n",
        "Fiji\t:\t 727,423 \t,\n",
        "Australia\t:\t 60,418 \t,\n",
        "Federated States of Micronesia\t:\t 146,875 \t,\n",
        "Samoa \t:\t 1,678,541 \t,\n",
        "Australia\t:\t 147,032 \t,\n",
        "\n",
        "The average profit per country in Australia and Oceania region is expected to be 429287.2755.\n",
        "\n",
        "(note: after working on the codes, it is found that the above manual calculation is not so correct.  Anyway, it is for initial brain-storming purpose)"
      ]
    },
    {
      "cell_type": "code",
      "metadata": {
        "colab": {
          "base_uri": "https://localhost:8080/"
        },
        "id": "f42OA2mb3-yU",
        "outputId": "8ff2594b-a6b3-4968-d351-e682c692649a"
      },
      "source": [
        "# test average:\n",
        "(369155 + 60418.38  + 147031.74  + 337937.6  + 146875.14  + + 727423.2  + 13009.18  + 5270.67  + 1678540.98  + 285087.64  + 951410.5 )/11\n",
        "\n"
      ],
      "execution_count": 61,
      "outputs": [
        {
          "output_type": "execute_result",
          "data": {
            "text/plain": [
              "429287.2754545454"
            ]
          },
          "metadata": {},
          "execution_count": 61
        }
      ]
    },
    {
      "cell_type": "markdown",
      "metadata": {
        "id": "cNtbOjsokPrZ"
      },
      "source": [
        "# Develop an algorithm and Convert to Python actual development of the software coding"
      ]
    },
    {
      "cell_type": "markdown",
      "metadata": {
        "id": "Oi6TzTwnnhKU"
      },
      "source": [
        "\n",
        "The most difficult part of this program is to sum up the different records' profit for same country.  In the csv, one country can have idfferent sale items and have multiple records.  \n",
        "\n",
        "However, the requirement is to calculate the max/min/average of a country's profit, NOT a item's profit, for \"Australia and Oceania\" Region\n",
        "\n",
        "So, we **must aggregate** the same country's profit, i.e. one record only for one country, and create another datafile/dataframe!\n",
        "\n",
        "Note: this task requirement is quite prescriptive and there is no free-style user input required, but just a pre-set CSV file.  As a result, I do not use function ( def xxx ) as there is no much need to freqently call a same function to out put result."
      ]
    },
    {
      "cell_type": "code",
      "metadata": {
        "id": "cUGwfDVy9CRe",
        "colab": {
          "base_uri": "https://localhost:8080/"
        },
        "outputId": "f18cba95-8583-4c1c-8a41-b4e7a90e93b5"
      },
      "source": [
        "print ('Make sure you uploaded the required sales.csv file before running this program.  Thanks.')\n",
        "\n",
        "csvname = '/content/sales.csv'  # This is the only input needed for this task: Set filename variable value after upload the actual csv file to colab"
      ],
      "execution_count": 62,
      "outputs": [
        {
          "output_type": "stream",
          "name": "stdout",
          "text": [
            "Make sure you uploaded the required sales.csv file before running this program.  Thanks.\n"
          ]
        }
      ]
    },
    {
      "cell_type": "code",
      "metadata": {
        "colab": {
          "base_uri": "https://localhost:8080/"
        },
        "id": "hD_T4eyG6Cma",
        "outputId": "ed4a109c-97c5-427d-e99a-a04b3aa1e16e"
      },
      "source": [
        "import csv  # importing the csv module to read the csv files\n",
        "file = open(csvname, newline='')\n",
        "\n",
        "reader = csv.reader(file)\n",
        "\n",
        "header = next(reader) \n",
        "print (header)\n",
        "\n",
        "data=[]\n",
        "\n",
        "for row in reader:  \n",
        "\n",
        "  Region\t = (row[0])\n",
        "  Country\t = (row[1])\n",
        "  ItemType = (row[2])\n",
        "  SalesChannel = (row[3])\n",
        "  OrderPriority = (row[4])\n",
        "  OrderDate = (row[5])\n",
        "  OrderID = (row[6])\n",
        "  ShipDate = (row[7])\n",
        "  UnitsSold = float(row[8])\n",
        "  UnitPrice = float(row[9])\n",
        "  UnitCost = float(row[10])\n",
        "  TotalRevenue = float(row[11])\n",
        "  TotalCost = float(row[12])\n",
        "  TotalProfit = float(row[13])\n",
        "  data.append([Region, Country, ItemType, SalesChannel, OrderPriority, OrderDate, OrderID, ShipDate, UnitsSold, UnitPrice, UnitCost, TotalRevenue, TotalCost, TotalProfit])  # remember use square bracket\n",
        "\n",
        "'''All data are read and stored in a list called \"data\". Some pieces of info might not be needed,\n",
        "but for completeness purpose, it is decided to read from cvs and write all data to our LIST\n",
        "'''\n",
        "print (data[1][13])  # total profit is stored in the 14th (13 in the code means 14th) column of each row/record. \n",
        "            # This is to output the 2nd record's (1 in the code means 2nd) profit for random sample check.\n",
        "print( type (data[0]))\n",
        "print( len(data) )  # check total number of records in the csv file.\n"
      ],
      "execution_count": 63,
      "outputs": [
        {
          "output_type": "stream",
          "name": "stdout",
          "text": [
            "['Region', 'Country', 'Item Type', 'Sales Channel', 'Order Priority', 'Order Date', 'Order ID', 'Ship Date', 'Units Sold', 'Unit Price', 'Unit Cost', 'Total Revenue', 'Total Cost', 'Total Profit']\n",
            "248406.36\n",
            "<class 'list'>\n",
            "100\n"
          ]
        }
      ]
    },
    {
      "cell_type": "code",
      "metadata": {
        "colab": {
          "base_uri": "https://localhost:8080/"
        },
        "id": "WSGXgpT4HBGW",
        "outputId": "a7b8d729-34a0-47c0-e9c3-4aa502c033b4"
      },
      "source": [
        "# This session of coding is the most critial piece of the whole program, as highlighted previous regarding the most difficult part. \n",
        "\n",
        "countrycount = 0  # Initializaion. This variable is for reconciling purpose only: should be same as len(countries) \n",
        "countries = []   # this is the list to store the DISTINCT countries names\n",
        "countrybase = []  # this is the list to store the profit of the first item (only) of each country\n",
        "addprofit = []   # this is a 2-dimensional list to store the profit of 2nd item (and 3rd onwards) of each country\n",
        "tempprofit = 0\n",
        "\n",
        "for i in range(0,len(data)):\n",
        "  \n",
        " \n",
        "  if data[i][0] == \"Australia and Oceania\":\n",
        "    temp = data[i][1]\n",
        "    #print (temp)\n",
        "    #print(countries)\n",
        "\n",
        "    if temp in countries:            # this \"if\" condition means repeating country in the records, i.e. more than 1 records from same country.\n",
        "      for j in range(0,len(countries)): \n",
        "        if countries[j] == temp:       # this \"if\" condition means the new item/record's country name is same as some prior record (j)'s country\n",
        "          tempprofit = data[i][13]\n",
        "          addprofit.append ([j, tempprofit]) # j is to mark down the sequence number of the country (i.e. poistion in the DISTINCT countries list), \n",
        "                             # for any additional items/profits. Please note j can be repeated if a country has 3 or more items.  \n",
        "                             # for each record in addprofit (2-dimension list), there are 2 pieces of information story, 1st one is the country sequence reference, the other is the item's profit\n",
        "    else:\n",
        "      #print (\"no\")\n",
        "      countries.append(temp)      # temp is the country name, only distinct one will be added in the countries list\n",
        "      countrybase.append(data[i][13])  # this is the record the first item's profit of each country.\n",
        "      countrycount += 1\n",
        "\n",
        "\n",
        "data = []    # this will be the final data to be stored in new dataframe, and for bar chart plotting.\n",
        "\n",
        "accumprofit = 0   # initialization of accumulated profits\n",
        "\n",
        "for i in range(0,len(countries)):\n",
        "  \n",
        "  accumprofit = countrybase[i]\n",
        "  \n",
        "  for j in range (0,len(addprofit)):   # to add all additional items profits back to the corresponding country.\n",
        "    if addprofit[j][0] == i:\n",
        "      accumprofit += addprofit[j][1]  # when the (0) first column result of (j+1)th row of addprofit equals i, the all the profits stored in addprofit list will belong to country/countries i.\n",
        "\n",
        "  data.append([countries[i], accumprofit])  # accumulated profit by country is done and stored now.\n",
        "    \n",
        "#print ((countries))\n",
        "print (countrybase)  # print to check  \n",
        "print (addprofit)  # print to check \n",
        "print (data)    # print to check if the additionalprofit is added to the same country, e.g. Australia.\n",
        "\n",
        "\n",
        "  "
      ],
      "execution_count": 64,
      "outputs": [
        {
          "output_type": "stream",
          "name": "stdout",
          "text": [
            "[951410.5, 285087.64, 337937.6, 5270.67, 13009.18, 369155.0, 727423.2, 146875.14, 1678540.98]\n",
            "[[5, 60418.38], [5, 147031.74]]\n",
            "[['Tuvalu', 951410.5], ['Solomon Islands', 285087.64], ['East Timor', 337937.6], ['New Zealand', 5270.67], ['Kiribati', 13009.18], ['Australia', 576605.12], ['Fiji', 727423.2], ['Federated States of Micronesia', 146875.14], ['Samoa ', 1678540.98]]\n"
          ]
        }
      ]
    },
    {
      "cell_type": "code",
      "metadata": {
        "colab": {
          "base_uri": "https://localhost:8080/"
        },
        "id": "BNNPHgbcOYV9",
        "outputId": "9ec4ebe5-ee04-4c19-94bf-d4d9a93c349b"
      },
      "source": [
        "# This session to do calculation max, min and average.\n",
        "\n",
        "sum = 0\n",
        "ma = data[0][1]  # max temporarily assigned to first record for initialization\n",
        "mi = data[0][1]  # min temporarily assigned to first record for initialization\n",
        "\n",
        "for i in range(0,len(data)):\n",
        "  sum += data[i][1]\n",
        "  if data[i][1] > ma:  # if current record is higher than old max, then it takes over\n",
        "    ma = data[i][1]\n",
        "    macountry = countries[i]\n",
        "  if data[i][1] < mi:  # if current record is lower than old min, then it takes over\n",
        "    mi = data[i][1]\n",
        "    micountry = countries[i]\n",
        "\n",
        "avgprofit = sum / countrycount\n",
        "\n",
        "print(mi, ma)\n",
        "print(avgprofit)\n",
        "\n",
        "# rework the manual calculation using the updated no. of unique countries of 9:\n",
        "(369155 + 60418.38  + 147031.74  + 337937.6  + 146875.14  + + 727423.2  + 13009.18  + 5270.67  + 1678540.98  + 285087.64  + 951410.5 )/9\n",
        "\n",
        "# result matches the program's output of the average profit amount."
      ],
      "execution_count": 65,
      "outputs": [
        {
          "output_type": "stream",
          "name": "stdout",
          "text": [
            "5270.67 1678540.98\n",
            "524684.4477777778\n"
          ]
        },
        {
          "output_type": "execute_result",
          "data": {
            "text/plain": [
              "524684.4477777777"
            ]
          },
          "metadata": {},
          "execution_count": 65
        }
      ]
    },
    {
      "cell_type": "code",
      "metadata": {
        "id": "ToR87UCx9Bps"
      },
      "source": [
        "# This session writes the accumulate/aggregate profit by country to new datafile.\n",
        "\n",
        "regioncsvname = '/content/ausioceanprofit.csv'\n",
        "\n",
        "with open(regioncsvname,'w') as f:\n",
        "    f.writelines(\"Region,Country,Aggregate Profit\")\n",
        "    #\n",
        "\n",
        "    f.writelines(\"\\n\")\n",
        "\n",
        "    for i in range(0,len(data)):       \n",
        "            \n",
        "      temp1 = ( \"Australia and Oceania,\" + str(data[i][0]) + \",\" + str(data[i][1]) )                 \n",
        "      \n",
        "      f.writelines(temp1)\n",
        "      f.writelines(\"\\n\")  \n",
        "f.close()"
      ],
      "execution_count": 66,
      "outputs": []
    },
    {
      "cell_type": "code",
      "metadata": {
        "colab": {
          "base_uri": "https://localhost:8080/"
        },
        "id": "hzcg7IL_8nP7",
        "outputId": "54de6ffa-8e1a-410b-abcc-be81adfab51c"
      },
      "source": [
        "import pandas as pd\n",
        "\n",
        "data = pd.read_csv(regioncsvname)   # using pandas to read the newly created data for accumulate/aggregate profit\n",
        "\n",
        "data.head(1)\n",
        "data.tail()\n",
        "\n",
        "print (data.head(6))  # print to check, e.g. for Australia\n",
        "print (type(data.head(1)))\n",
        "print (type(data))\n",
        "\n",
        "\n",
        "# help (data.head)\n",
        "\n"
      ],
      "execution_count": 67,
      "outputs": [
        {
          "output_type": "stream",
          "name": "stdout",
          "text": [
            "                  Region          Country  Aggregate Profit\n",
            "0  Australia and Oceania           Tuvalu         951410.50\n",
            "1  Australia and Oceania  Solomon Islands         285087.64\n",
            "2  Australia and Oceania       East Timor         337937.60\n",
            "3  Australia and Oceania      New Zealand           5270.67\n",
            "4  Australia and Oceania         Kiribati          13009.18\n",
            "5  Australia and Oceania        Australia         576605.12\n",
            "<class 'pandas.core.frame.DataFrame'>\n",
            "<class 'pandas.core.frame.DataFrame'>\n"
          ]
        }
      ]
    },
    {
      "cell_type": "markdown",
      "metadata": {
        "id": "s0-d6g0d2SqM"
      },
      "source": [
        "# Testing: as this task requirement is quite prescriptive, there is no need to test various data in terms of input/output, but only simple debug is done."
      ]
    },
    {
      "cell_type": "code",
      "metadata": {
        "colab": {
          "base_uri": "https://localhost:8080/",
          "height": 448
        },
        "id": "iba2sqe98rk3",
        "outputId": "1ab1c236-fdaa-454b-a9b2-65469044a852"
      },
      "source": [
        "# plot \n",
        "\n",
        "import matplotlib.pyplot as plt\n",
        "\n",
        "plt.figure(figsize=(20,8))  # resize the figure so the full name of all countries can be displayed.\n",
        "\n",
        "plt.bar(data[\"Country\"], data[\"Aggregate Profit\"])  # plot bar chart, x-axis is for country, y-axis for profit\n",
        "\n",
        "plt.xlabel(\"Country\")\n",
        "plt.ylabel(\"Profit (in Billion)\")\n",
        "plt.title(\"Australia and Oceania\")\n"
      ],
      "execution_count": 68,
      "outputs": [
        {
          "output_type": "execute_result",
          "data": {
            "text/plain": [
              "Text(0.5, 1.0, 'Australia and Oceania')"
            ]
          },
          "metadata": {},
          "execution_count": 68
        },
        {
          "output_type": "display_data",
          "data": {
            "image/png": "[encoded data removed]",
            "text/plain": [
              "<Figure size 1440x576 with 1 Axes>"
            ]
          },
          "metadata": {
            "needs_background": "light"
          }
        }
      ]
    },
    {
      "cell_type": "code",
      "metadata": {
        "colab": {
          "base_uri": "https://localhost:8080/"
        },
        "id": "3lwrMEK82FZB",
        "outputId": "58a74e0a-f173-4494-cc35-edce08a0c47e"
      },
      "source": [
        "# output key summary after plotting bar chart\n",
        "print (\"The following summarizes the profit for Region Australia+Oceania.\")\n",
        "print (\"\")  # blank line in output for easier reading\n",
        "print (\"The average profit per country is: \\t\\t\",avgprofit)\n",
        "print (\"The minimum profit is from country\",micountry,\":\",mi)\n",
        "print (\"The maximum profit is from country\",macountry,\": \\t\",ma)\n",
        "print (\"\") # blank line in output for easier reading\n",
        "print (\"Thanks for using my program, see you next time.\")\n"
      ],
      "execution_count": 69,
      "outputs": [
        {
          "output_type": "stream",
          "name": "stdout",
          "text": [
            "The following summarizes the profit for Region Australia+Oceania.\n",
            "\n",
            "The average profit per country is: \t\t 524684.4477777778\n",
            "The minimum profit is from country New Zealand : 5270.67\n",
            "The maximum profit is from country Samoa  : \t 1678540.98\n",
            "\n",
            "Thanks for using my program, see you next time.\n"
          ]
        }
      ]
    }
  ]
}