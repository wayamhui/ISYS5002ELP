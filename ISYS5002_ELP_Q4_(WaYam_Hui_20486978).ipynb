{
  "nbformat": 4,
  "nbformat_minor": 0,
  "metadata": {
    "colab": {
      "name": "ISYS5002 ELP Q4 (WaYam Hui 20486978).ipynb",
      "provenance": [],
      "authorship_tag": "ABX9TyPMZIIaoFccuV8GNbQbMV+0",
      "include_colab_link": true
    },
    "kernelspec": {
      "name": "python3",
      "display_name": "Python 3"
    },
    "language_info": {
      "name": "python"
    }
  },
  "cells": [
    {
      "cell_type": "markdown",
      "metadata": {
        "id": "view-in-github",
        "colab_type": "text"
      },
      "source": [
        "<a href=\"https://colab.research.google.com/github/wayamhui/ISYS5002ELP/blob/main/ISYS5002_ELP_Q4_(WaYam_Hui_20486978).ipynb\" target=\"_parent\"><img src=\"https://colab.research.google.com/assets/colab-badge.svg\" alt=\"Open In Colab\"/></a>"
      ]
    },
    {
      "cell_type": "markdown",
      "metadata": {
        "id": "P-kaDWQU38Zb"
      },
      "source": [
        "# Sales\n",
        "\n",
        "This to manually calculation the average profit manually to check the program later\n",
        "\n",
        "Australia avera\n",
        "369155  \n",
        "60418.38  \n",
        "147031.74  \n",
        "337937.6  \n",
        "146875.14  \n",
        "727423.2  \n",
        "13009.18  \n",
        "5270.67  \n",
        "1678540.98  \n",
        "285087.64  \n",
        "951410.5  \n",
        "The avarege country profits in Australia and Oceania region is 429287.2755\n",
        "\n",
        "\n"
      ]
    },
    {
      "cell_type": "code",
      "metadata": {
        "colab": {
          "base_uri": "https://localhost:8080/"
        },
        "id": "f42OA2mb3-yU",
        "outputId": "2772a524-476a-4501-8684-c5808c52617e"
      },
      "source": [
        "(369155 + 60418.38  + 147031.74  + 337937.6  + 146875.14  + + 727423.2  + 13009.18  + 5270.67  + 1678540.98  + 285087.64  + 951410.5 )/11\n",
        "\n"
      ],
      "execution_count": 109,
      "outputs": [
        {
          "output_type": "execute_result",
          "data": {
            "text/plain": [
              "429287.2754545454"
            ]
          },
          "metadata": {},
          "execution_count": 109
        }
      ]
    },
    {
      "cell_type": "code",
      "metadata": {
        "id": "cUGwfDVy9CRe"
      },
      "source": [
        "csvname = '/content/sales.csv'  # set filename variable value after upload the actual csv file to colab"
      ],
      "execution_count": 110,
      "outputs": []
    },
    {
      "cell_type": "code",
      "metadata": {
        "colab": {
          "base_uri": "https://localhost:8080/"
        },
        "id": "hD_T4eyG6Cma",
        "outputId": "793f310f-1c0e-4b74-f5eb-6c85372dec6f"
      },
      "source": [
        "import csv\n",
        "file = open(csvname, newline='')\n",
        "reader = csv.reader(file)\n",
        "\n",
        "header = next(reader) \n",
        "print (header)\n",
        "\n",
        "data=[]\n",
        "for row in reader:  #please remember row\n",
        "  Region\t = (row[0])\n",
        "  Country\t = (row[1])\n",
        "  ItemType = (row[2])\n",
        "  SalesChannel = (row[3])\n",
        "  OrderPriority = (row[4])\n",
        "  OrderDate = (row[5])\n",
        "  OrderID = (row[6])\n",
        "  ShipDate = (row[7])\n",
        "  UnitsSold = float(row[8])\n",
        "  UnitPrice = float(row[9])\n",
        "  UnitCost = float(row[10])\n",
        "  TotalRevenue = float(row[11])\n",
        "  TotalCost = float(row[12])\n",
        "  TotalProfit = float(row[13])\n",
        "  data.append([Region, Country, ItemType, SalesChannel, OrderPriority, OrderDate, OrderID, ShipDate, UnitsSold, UnitPrice, UnitCost, TotalRevenue, TotalCost, TotalProfit])  # remember use square bracket\n",
        "\n",
        "print (data[1][13])\n",
        "print( type (data[0]))\n",
        "\n",
        "print( len(data) )\n"
      ],
      "execution_count": 111,
      "outputs": [
        {
          "output_type": "stream",
          "name": "stdout",
          "text": [
            "['Region', 'Country', 'Item Type', 'Sales Channel', 'Order Priority', 'Order Date', 'Order ID', 'Ship Date', 'Units Sold', 'Unit Price', 'Unit Cost', 'Total Revenue', 'Total Cost', 'Total Profit']\n",
            "248406.36\n",
            "<class 'list'>\n",
            "100\n"
          ]
        }
      ]
    },
    {
      "cell_type": "code",
      "metadata": {
        "colab": {
          "base_uri": "https://localhost:8080/"
        },
        "id": "WSGXgpT4HBGW",
        "outputId": "39334d9e-71c1-46dd-d361-001ecd1b1d8a"
      },
      "source": [
        "# group by coountry\n",
        "\n",
        "\n",
        "countrycount = 0   # for reconciling purpose only: should be same as len(countries) \n",
        "countries = []\n",
        "countrydata = []\n",
        "countrybase = []\n",
        "addprofit = []\n",
        "tempprofit = 0\n",
        "\n",
        "for i in range(0,len(data)):\n",
        "  \n",
        " \n",
        "  if data[i][0] == \"Australia and Oceania\":\n",
        "    temp = data[i][1]\n",
        "    #print (temp)\n",
        "    #print(countries)\n",
        "\n",
        "    if temp in countries:                      \n",
        "      for j in range(0,len(countries)): \n",
        "        if countries[j] == temp:\n",
        "          tempprofit = data[i][13]\n",
        "          addprofit.append ([j, tempprofit]) \n",
        "\n",
        "    else:\n",
        "      #print (\"no\")\n",
        "      countries.append(temp)\n",
        "      countrybase.append(data[i][13])\n",
        "      countrycount += 1\n",
        "\n",
        "\n",
        "data = []\n",
        "\n",
        "accumprofit = 0\n",
        "\n",
        "for i in range(0,len(countries)):\n",
        "  \n",
        "  accumprofit = countrybase[i]\n",
        "  \n",
        "  for j in range (0,len(addprofit)):\n",
        "    if addprofit[j][0] == i:\n",
        "      accumprofit += addprofit[j][1]\n",
        "\n",
        "  data.append([countries[i], accumprofit])\n",
        "    \n",
        "#print ((countries))\n",
        "print (addprofit)\n",
        "print (data)\n",
        "\n",
        "\n",
        "  "
      ],
      "execution_count": 112,
      "outputs": [
        {
          "output_type": "stream",
          "name": "stdout",
          "text": [
            "[[5, 60418.38], [5, 147031.74]]\n",
            "[['Tuvalu', 951410.5], ['Solomon Islands', 285087.64], ['East Timor', 337937.6], ['New Zealand', 5270.67], ['Kiribati', 13009.18], ['Australia', 576605.12], ['Fiji', 727423.2], ['Federated States of Micronesia', 146875.14], ['Samoa ', 1678540.98]]\n"
          ]
        }
      ]
    },
    {
      "cell_type": "code",
      "metadata": {
        "id": "BNNPHgbcOYV9"
      },
      "source": [
        ""
      ],
      "execution_count": 112,
      "outputs": []
    },
    {
      "cell_type": "code",
      "metadata": {
        "id": "ej5xsNwZOWgq"
      },
      "source": [
        ""
      ],
      "execution_count": 112,
      "outputs": []
    },
    {
      "cell_type": "code",
      "metadata": {
        "id": "ToR87UCx9Bps"
      },
      "source": [
        "regioncsvname = '/content/ausioceanprofit.csv'\n",
        "with open(fullname,'w') as f:\n",
        "    f.writelines(\"Region,Country,Aggregate Profit\")\n",
        "    #\n",
        "\n",
        "    f.writelines(\"\\n\")\n",
        "\n",
        "    for i in range(0,len(data)):\n",
        "       \n",
        "            \n",
        "      temp1 = ( \"Australia and Oceania,\" + str(data[i][0]) + \",\" + str(data[i][1]) )    \n",
        "      #       \n",
        "      # last version: temp3 = str(record['name'])+ \"\\t\" + str(record['title']) + \"\\t\" + str(record['pay']) + \"\\t\" + str(record['tax'])    \n",
        "      # tab-delimited style is used, instead of comma. In the profile tables of some compnaies (e.g. ticker \"ab\"), the executive title descriptions could have comma. If comma-delimited, then then some title's record can be treated as two columns\n",
        "\n",
        "      f.writelines(temp1)\n",
        "      f.writelines(\"\\n\")  \n",
        "f.close()"
      ],
      "execution_count": 113,
      "outputs": []
    },
    {
      "cell_type": "code",
      "metadata": {
        "id": "r1EYxhFwHAWA"
      },
      "source": [
        ""
      ],
      "execution_count": 113,
      "outputs": []
    },
    {
      "cell_type": "code",
      "metadata": {
        "colab": {
          "base_uri": "https://localhost:8080/"
        },
        "id": "hzcg7IL_8nP7",
        "outputId": "1d43b19d-f97d-4698-e41d-a27638aa95b1"
      },
      "source": [
        "import pandas as pd\n",
        "\n",
        "data = pd.read_csv(regioncsvname)   # \n",
        "\n",
        "data.head(1)\n",
        "data.tail()\n",
        "\n",
        "print (data.head(2))\n",
        "print (type(data.head(1)))\n",
        "print (type(data))\n",
        "print (type(data))\n",
        "\n",
        "# help (data.head)\n",
        "\n",
        "\n",
        "# can't work: cPrice = data.head.close"
      ],
      "execution_count": 114,
      "outputs": [
        {
          "output_type": "stream",
          "name": "stdout",
          "text": [
            "                  Region          Country  Aggregate Profit\n",
            "0  Australia and Oceania           Tuvalu         951410.50\n",
            "1  Australia and Oceania  Solomon Islands         285087.64\n",
            "<class 'pandas.core.frame.DataFrame'>\n",
            "<class 'pandas.core.frame.DataFrame'>\n",
            "<class 'pandas.core.frame.DataFrame'>\n"
          ]
        }
      ]
    },
    {
      "cell_type": "code",
      "metadata": {
        "colab": {
          "base_uri": "https://localhost:8080/",
          "height": 312
        },
        "id": "iba2sqe98rk3",
        "outputId": "85739edf-144e-47b0-e7fb-1586cc3e7158"
      },
      "source": [
        "# plot\n",
        "import matplotlib.pyplot as plt\n",
        "plt.plot(data[\"Country\"], data[\"Aggregate Profit\"])\n",
        "plt.xlabel(\"Date/time\")\n",
        "plt.ylabel(\"Adj. Close\")\n",
        "plt.title(\"Australia and Oceania\")"
      ],
      "execution_count": 117,
      "outputs": [
        {
          "output_type": "execute_result",
          "data": {
            "text/plain": [
              "Text(0.5, 1.0, 'Australia and Oceania')"
            ]
          },
          "metadata": {},
          "execution_count": 117
        },
        {
          "output_type": "display_data",
          "data": {
            "image/png": "[encoded data removed]",
            "text/plain": [
              "<Figure size 432x288 with 1 Axes>"
            ]
          },
          "metadata": {
            "needs_background": "light"
          }
        }
      ]
    }
  ]
}