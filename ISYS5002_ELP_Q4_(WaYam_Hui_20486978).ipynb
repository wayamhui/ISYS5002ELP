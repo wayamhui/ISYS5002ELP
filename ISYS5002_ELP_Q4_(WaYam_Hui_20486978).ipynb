{
  "nbformat": 4,
  "nbformat_minor": 0,
  "metadata": {
    "colab": {
      "name": "ISYS5002 ELP Q4 (WaYam Hui 20486978).ipynb",
      "provenance": [],
      "authorship_tag": "ABX9TyPJclZrzPULmz/PwJhsk2Nc",
      "include_colab_link": true
    },
    "kernelspec": {
      "name": "python3",
      "display_name": "Python 3"
    },
    "language_info": {
      "name": "python"
    }
  },
  "cells": [
    {
      "cell_type": "markdown",
      "metadata": {
        "id": "view-in-github",
        "colab_type": "text"
      },
      "source": [
        "<a href=\"https://colab.research.google.com/github/wayamhui/ISYS5002ELP/blob/main/ISYS5002_ELP_Q4_(WaYam_Hui_20486978).ipynb\" target=\"_parent\"><img src=\"https://colab.research.google.com/assets/colab-badge.svg\" alt=\"Open In Colab\"/></a>"
      ]
    },
    {
      "cell_type": "markdown",
      "metadata": {
        "id": "P-kaDWQU38Zb"
      },
      "source": [
        "# Sales\n",
        "\n",
        "This to manually calculation the average profit manually to check the program later\n",
        "\n",
        "Australia avera\n",
        "369155  \n",
        "60418.38  \n",
        "147031.74  \n",
        "337937.6  \n",
        "146875.14  \n",
        "727423.2  \n",
        "13009.18  \n",
        "5270.67  \n",
        "1678540.98  \n",
        "285087.64  \n",
        "951410.5  \n",
        "The avarege country profits in Australia and Oceania region is 429287.2755\n",
        "\n",
        "\n"
      ]
    },
    {
      "cell_type": "code",
      "metadata": {
        "colab": {
          "base_uri": "https://localhost:8080/"
        },
        "id": "f42OA2mb3-yU",
        "outputId": "8fc5b4f9-96d9-4c40-fdbe-8aff7e491bc0"
      },
      "source": [
        "(369155 + 60418.38  + 147031.74  + 337937.6  + 146875.14  + + 727423.2  + 13009.18  + 5270.67  + 1678540.98  + 285087.64  + 951410.5 )/11\n",
        "\n"
      ],
      "execution_count": 1,
      "outputs": [
        {
          "output_type": "execute_result",
          "data": {
            "text/plain": [
              "429287.2754545454"
            ]
          },
          "metadata": {},
          "execution_count": 1
        }
      ]
    }
  ]
}