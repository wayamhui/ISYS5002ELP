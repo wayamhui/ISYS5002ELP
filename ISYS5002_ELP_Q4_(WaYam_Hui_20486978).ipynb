{
  "nbformat": 4,
  "nbformat_minor": 0,
  "metadata": {
    "colab": {
      "name": "ISYS5002 ELP Q4 (WaYam Hui 20486978).ipynb",
      "provenance": [],
      "authorship_tag": "ABX9TyNU59Sl3u1JQFlBr1npZvmj",
      "include_colab_link": true
    },
    "kernelspec": {
      "name": "python3",
      "display_name": "Python 3"
    },
    "language_info": {
      "name": "python"
    }
  },
  "cells": [
    {
      "cell_type": "markdown",
      "metadata": {
        "id": "view-in-github",
        "colab_type": "text"
      },
      "source": [
        "<a href=\"https://colab.research.google.com/github/wayamhui/ISYS5002ELP/blob/main/ISYS5002_ELP_Q4_(WaYam_Hui_20486978).ipynb\" target=\"_parent\"><img src=\"https://colab.research.google.com/assets/colab-badge.svg\" alt=\"Open In Colab\"/></a>"
      ]
    },
    {
      "cell_type": "markdown",
      "metadata": {
        "id": "ogP_m2Jdj3G_"
      },
      "source": [
        "#\tState the problem clearly: \n",
        "1. The item to solve is to calucate maximun profits country and minimum profits country as well as average country profits for Australia+Oceania Region based on the sales data provided.\n",
        "2. Plot the Australia+Oceania Region profit by country in a bar chart\n",
        "\n",
        "# Describe the input and output: \n",
        "1. input: the sales cvs file provided\n",
        "2. outout: max, min, average, and a bar chart as stated previously.\n"
      ]
    },
    {
      "cell_type": "markdown",
      "metadata": {
        "id": "Lyf7R0V6j6L_"
      },
      "source": [
        "#Work a simple example by hand\n",
        "\n",
        "This to manually calculate the average profit for \"Australia and Oceania\" manually to check the program later\n",
        "\n",
        "Australia and Oceania profit records 369155\n",
        "60418.38\n",
        "147031.74\n",
        "337937.6\n",
        "146875.14\n",
        "727423.2\n",
        "13009.18\n",
        "5270.67\n",
        "1678540.98\n",
        "285087.64\n",
        "951410.5\n",
        "The avarege country profits in Australia and Oceania region is 429287.2755\n",
        "\n",
        "(note: after working on the codes, it is found that the above manual calculation is not so correct.  Anyway, it is for initial brain-storming purpose)"
      ]
    },
    {
      "cell_type": "code",
      "metadata": {
        "colab": {
          "base_uri": "https://localhost:8080/"
        },
        "id": "f42OA2mb3-yU",
        "outputId": "a7e09075-73a6-4ba4-8f88-f9a8ec3e73a4"
      },
      "source": [
        "(369155 + 60418.38  + 147031.74  + 337937.6  + 146875.14  + + 727423.2  + 13009.18  + 5270.67  + 1678540.98  + 285087.64  + 951410.5 )/11\n",
        "\n"
      ],
      "execution_count": 94,
      "outputs": [
        {
          "output_type": "execute_result",
          "data": {
            "text/plain": [
              "429287.2754545454"
            ]
          },
          "metadata": {},
          "execution_count": 94
        }
      ]
    },
    {
      "cell_type": "markdown",
      "metadata": {
        "id": "cNtbOjsokPrZ"
      },
      "source": [
        "# Develop an algorithm and Convert to Python actual development of the software coding"
      ]
    },
    {
      "cell_type": "markdown",
      "metadata": {
        "id": "Oi6TzTwnnhKU"
      },
      "source": [
        "\n",
        "The most difficult part of this program is to sum up the different records' profit for same country.  In the csv, one country can have idfferent sale items and have multiple records.  \n",
        "\n",
        "However, the requirement is to calculate the max/min/average of a country's profit, NOT a item's profit, for \"Australia and Oceania\" Region\n",
        "\n",
        "So, we **must aggregate** the same country's profit, i.e. one record only for one country, and create another datafile/dataframe!\n",
        "\n",
        "Note: this task requirement is quite prescriptive and there is no free-style user input required, but just a pre-set CSV file.  As a result, I do not use function ( def xxx ) as there is no much need to freqently call a same function to out put result."
      ]
    },
    {
      "cell_type": "code",
      "metadata": {
        "id": "cUGwfDVy9CRe"
      },
      "source": [
        "csvname = '/content/sales.csv'  # This is the only input needed for this task: Set filename variable value after upload the actual csv file to colab"
      ],
      "execution_count": 95,
      "outputs": []
    },
    {
      "cell_type": "code",
      "metadata": {
        "colab": {
          "base_uri": "https://localhost:8080/"
        },
        "id": "hD_T4eyG6Cma",
        "outputId": "bc291d71-558c-431a-f32d-5a80338bc901"
      },
      "source": [
        "import csv  # importing the csv module to read the csv files\n",
        "file = open(csvname, newline='')\n",
        "reader = csv.reader(file)\n",
        "\n",
        "header = next(reader) \n",
        "print (header)\n",
        "\n",
        "data=[]\n",
        "\n",
        "for row in reader:  \n",
        "\n",
        "  Region\t = (row[0])\n",
        "  Country\t = (row[1])\n",
        "  ItemType = (row[2])\n",
        "  SalesChannel = (row[3])\n",
        "  OrderPriority = (row[4])\n",
        "  OrderDate = (row[5])\n",
        "  OrderID = (row[6])\n",
        "  ShipDate = (row[7])\n",
        "  UnitsSold = float(row[8])\n",
        "  UnitPrice = float(row[9])\n",
        "  UnitCost = float(row[10])\n",
        "  TotalRevenue = float(row[11])\n",
        "  TotalCost = float(row[12])\n",
        "  TotalProfit = float(row[13])\n",
        "  data.append([Region, Country, ItemType, SalesChannel, OrderPriority, OrderDate, OrderID, ShipDate, UnitsSold, UnitPrice, UnitCost, TotalRevenue, TotalCost, TotalProfit])  # remember use square bracket\n",
        "\n",
        "'''All data are read and stored in a list called \"data\". Some pieces of info might not be needed,\n",
        "but for completeness purpose, it is decided to read from cvs and write all data to our LIST\n",
        "'''\n",
        "print (data[1][13])  # total profit is stored in the 14th (13 in the code means 14th) column of each row/record. \n",
        "            # This is to output the 2nd record's (1 in the code means 2nd) profit for random sample check.\n",
        "print( type (data[0]))\n",
        "print( len(data) )  # check total number of records in the csv file.\n"
      ],
      "execution_count": 96,
      "outputs": [
        {
          "output_type": "stream",
          "name": "stdout",
          "text": [
            "['Region', 'Country', 'Item Type', 'Sales Channel', 'Order Priority', 'Order Date', 'Order ID', 'Ship Date', 'Units Sold', 'Unit Price', 'Unit Cost', 'Total Revenue', 'Total Cost', 'Total Profit']\n",
            "248406.36\n",
            "<class 'list'>\n",
            "100\n"
          ]
        }
      ]
    },
    {
      "cell_type": "code",
      "metadata": {
        "colab": {
          "base_uri": "https://localhost:8080/"
        },
        "id": "WSGXgpT4HBGW",
        "outputId": "d77a3e20-2e9d-491b-b06d-263fdf6e0150"
      },
      "source": [
        "# This session of coding is the most critial piece of the whole program, as highlighted previous regarding the most difficult part. \n",
        "\n",
        "countrycount = 0  # Initializaion. This variable is for reconciling purpose only: should be same as len(countries) \n",
        "countries = []   # this is the list to store the DISTINCT countries names\n",
        "countrybase = []  # this is the list to store the profit of the first item (only) of each country\n",
        "addprofit = []   # this is the list to store the profit of 2nd and onwards itmes of each country\n",
        "tempprofit = 0\n",
        "\n",
        "for i in range(0,len(data)):\n",
        "  \n",
        " \n",
        "  if data[i][0] == \"Australia and Oceania\":\n",
        "    temp = data[i][1]\n",
        "    #print (temp)\n",
        "    #print(countries)\n",
        "\n",
        "    if temp in countries:            # this \"if\" condition means repeating country in the records, i.e. more than 1 records from same country.\n",
        "      for j in range(0,len(countries)): \n",
        "        if countries[j] == temp:       # this \"if\" condition means the new item/record's country name is same as some prior record (j)'s country\n",
        "          tempprofit = data[i][13]\n",
        "          addprofit.append ([j, tempprofit]) # j is to mark down the sequence number of the country (i.e. poistion in the DISTINCT countries list), \n",
        "                             # for any additional items/profits. Please note j can be repeated if a country has 3 or more items.  \n",
        "\n",
        "    else:\n",
        "      #print (\"no\")\n",
        "      countries.append(temp)      # temp is the country name, only distinct one will be added in the countries list\n",
        "      countrybase.append(data[i][13])  # this is the record the first item's profit of each country.\n",
        "      countrycount += 1\n",
        "\n",
        "\n",
        "data = []    # this will be the final data to be stored in new dataframe, and for bar chart plotting.\n",
        "\n",
        "accumprofit = 0   # initialization of accumulated profits\n",
        "\n",
        "for i in range(0,len(countries)):\n",
        "  \n",
        "  accumprofit = countrybase[i]\n",
        "  \n",
        "  for j in range (0,len(addprofit)):   # to add all additional items profits back to the corresponding country.\n",
        "    if addprofit[j][0] == i:\n",
        "      accumprofit += addprofit[j][1]  # when the (0) first column result of (j+1)th row of addprofit equals i, the all the profits stored in addprofit list will belong to country/countries i.\n",
        "\n",
        "  data.append([countries[i], accumprofit])  # accumulated profit by country is done and stored now.\n",
        "    \n",
        "#print ((countries))\n",
        "print (addprofit)  # print to check \n",
        "print (data)    # print to check \n",
        "\n",
        "\n",
        "  "
      ],
      "execution_count": 97,
      "outputs": [
        {
          "output_type": "stream",
          "name": "stdout",
          "text": [
            "[[5, 60418.38], [5, 147031.74]]\n",
            "[['Tuvalu', 951410.5], ['Solomon Islands', 285087.64], ['East Timor', 337937.6], ['New Zealand', 5270.67], ['Kiribati', 13009.18], ['Australia', 576605.12], ['Fiji', 727423.2], ['Federated States of Micronesia', 146875.14], ['Samoa ', 1678540.98]]\n"
          ]
        }
      ]
    },
    {
      "cell_type": "code",
      "metadata": {
        "colab": {
          "base_uri": "https://localhost:8080/"
        },
        "id": "BNNPHgbcOYV9",
        "outputId": "05364ea1-31ac-4c07-e1de-7eb7272242e3"
      },
      "source": [
        "# This session to do calculation max, min and average.\n",
        "\n",
        "sum = 0\n",
        "ma = data[0][1]  # max temporarily assigned to first record for initialization\n",
        "mi = data[0][1]  # min temporarily assigned to first record for initialization\n",
        "\n",
        "for i in range(0,len(data)):\n",
        "  sum += data[i][1]\n",
        "  if data[i][1] > ma:  # if current record is higher than old max, then it takes over\n",
        "    ma = data[i][1]\n",
        "    macountry = countries[i]\n",
        "  if data[i][1] < mi:  # if current record is lower than old min, then it takes over\n",
        "    mi = data[i][1]\n",
        "    micountry = countries[i]\n",
        "\n",
        "avgprofit = sum / countrycount\n",
        "\n",
        "print(mi, avgprofit, ma)\n",
        "# rework the manual calculation using the updated no. of unique countries of 9:\n",
        "(369155 + 60418.38  + 147031.74  + 337937.6  + 146875.14  + + 727423.2  + 13009.18  + 5270.67  + 1678540.98  + 285087.64  + 951410.5 )/9\n",
        "\n",
        "# result matches the program's output of the average profit amount."
      ],
      "execution_count": 98,
      "outputs": [
        {
          "output_type": "stream",
          "name": "stdout",
          "text": [
            "5270.67 524684.4477777778 1678540.98\n"
          ]
        },
        {
          "output_type": "execute_result",
          "data": {
            "text/plain": [
              "524684.4477777777"
            ]
          },
          "metadata": {},
          "execution_count": 98
        }
      ]
    },
    {
      "cell_type": "code",
      "metadata": {
        "id": "ToR87UCx9Bps"
      },
      "source": [
        "# This session writes the accumulate/aggregate profit by country to new datafile.\n",
        "\n",
        "regioncsvname = '/content/ausioceanprofit.csv'\n",
        "\n",
        "with open(regioncsvname,'w') as f:\n",
        "    f.writelines(\"Region,Country,Aggregate Profit\")\n",
        "    #\n",
        "\n",
        "    f.writelines(\"\\n\")\n",
        "\n",
        "    for i in range(0,len(data)):       \n",
        "            \n",
        "      temp1 = ( \"Australia and Oceania,\" + str(data[i][0]) + \",\" + str(data[i][1]) )                 \n",
        "      \n",
        "      f.writelines(temp1)\n",
        "      f.writelines(\"\\n\")  \n",
        "f.close()"
      ],
      "execution_count": 99,
      "outputs": []
    },
    {
      "cell_type": "code",
      "metadata": {
        "colab": {
          "base_uri": "https://localhost:8080/"
        },
        "id": "hzcg7IL_8nP7",
        "outputId": "af918f91-25d3-4071-c9c6-af2ff1c8e41e"
      },
      "source": [
        "import pandas as pd\n",
        "\n",
        "data = pd.read_csv(regioncsvname)   # using pandas to read the newly created data for accumulate/aggregate profit\n",
        "\n",
        "data.head(1)\n",
        "data.tail()\n",
        "\n",
        "print (data.head(10))  # print to check\n",
        "print (type(data.head(1)))\n",
        "print (type(data))\n",
        "\n",
        "\n",
        "# help (data.head)\n",
        "\n"
      ],
      "execution_count": 100,
      "outputs": [
        {
          "output_type": "stream",
          "name": "stdout",
          "text": [
            "                  Region                         Country  Aggregate Profit\n",
            "0  Australia and Oceania                          Tuvalu         951410.50\n",
            "1  Australia and Oceania                 Solomon Islands         285087.64\n",
            "2  Australia and Oceania                      East Timor         337937.60\n",
            "3  Australia and Oceania                     New Zealand           5270.67\n",
            "4  Australia and Oceania                        Kiribati          13009.18\n",
            "5  Australia and Oceania                       Australia         576605.12\n",
            "6  Australia and Oceania                            Fiji         727423.20\n",
            "7  Australia and Oceania  Federated States of Micronesia         146875.14\n",
            "8  Australia and Oceania                          Samoa         1678540.98\n",
            "<class 'pandas.core.frame.DataFrame'>\n",
            "<class 'pandas.core.frame.DataFrame'>\n"
          ]
        }
      ]
    },
    {
      "cell_type": "markdown",
      "metadata": {
        "id": "s0-d6g0d2SqM"
      },
      "source": [
        "# Testing: as this task requirement is quite prescriptive, there is no need to test various data in terms of input/output, but only simple debug is done."
      ]
    },
    {
      "cell_type": "code",
      "metadata": {
        "colab": {
          "base_uri": "https://localhost:8080/",
          "height": 447
        },
        "id": "iba2sqe98rk3",
        "outputId": "20137e81-ee4b-4771-f625-4db2546582eb"
      },
      "source": [
        "# plot \n",
        "\n",
        "import matplotlib.pyplot as plt\n",
        "\n",
        "plt.figure(figsize=(20,8))\n",
        "\n",
        "plt.bar(data[\"Country\"], data[\"Aggregate Profit\"])\n",
        "\n",
        "plt.xlabel(\"Country\")\n",
        "plt.ylabel(\"Profit (in billion)\")\n",
        "plt.title(\"Australia and Oceania\")\n"
      ],
      "execution_count": 101,
      "outputs": [
        {
          "output_type": "execute_result",
          "data": {
            "text/plain": [
              "Text(0.5, 1.0, 'Australia and Oceania')"
            ]
          },
          "metadata": {},
          "execution_count": 101
        },
        {
          "output_type": "display_data",
          "data": {
            "image/png": "[encoded data removed]",
            "text/plain": [
              "<Figure size 1440x576 with 1 Axes>"
            ]
          },
          "metadata": {
            "needs_background": "light"
          }
        }
      ]
    },
    {
      "cell_type": "code",
      "metadata": {
        "colab": {
          "base_uri": "https://localhost:8080/"
        },
        "id": "3lwrMEK82FZB",
        "outputId": "f95b3d2b-1653-41d6-f6fe-4878123702ec"
      },
      "source": [
        "# output key summary\n",
        "print (\"The average profit per country for Region Australia+Oceania is : \",avgprofit)\n",
        "print (\"The minimum profit is from country\",micountry,\": \",mi)\n",
        "print (\"The maximum profit is from country\",macountry,\": \",ma)\n",
        "print (\"Thanks for using my program, bye.\")\n"
      ],
      "execution_count": 102,
      "outputs": [
        {
          "output_type": "stream",
          "name": "stdout",
          "text": [
            "The average profit per country for Region Australia+Oceania is :  524684.4477777778\n",
            "The minimum profit is from country New Zealand :  5270.67\n",
            "The maximum profit is from country Samoa  :  1678540.98\n",
            "Thanks for using my program, bye.\n"
          ]
        }
      ]
    }
  ]
}